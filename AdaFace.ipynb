{
  "cells": [
    {
      "cell_type": "markdown",
      "metadata": {
        "id": "7guDiDClXDW8"
      },
      "source": [
        "## Seup runtime"
      ]
    },
    {
      "cell_type": "code",
      "execution_count": null,
      "metadata": {
        "id": "CsZpKuc0q99i",
        "vscode": {
          "languageId": "python"
        }
      },
      "outputs": [],
      "source": [
        "%cd /content\n",
        "!nvidia-smi\n",
        "!pip -q install pytz\n",
        "!pip -q install gdown\n",
        "!apt install screen\n",
        "!cat /etc/os-release\n",
        "\n",
        "!wget https://repo.anaconda.com/miniconda/Miniconda3-latest-Linux-x86_64.sh\n",
        "!chmod +x Miniconda3-latest-Linux-x86_64.sh\n",
        "!./Miniconda3-latest-Linux-x86_64.sh\n",
        "!/root/miniconda3/bin/conda init bash\n",
        "\n",
        "\n",
        "\n",
        "import pytz\n",
        "from datetime import datetime"
      ]
    },
    {
      "cell_type": "markdown",
      "metadata": {
        "id": "4sUsnxlcXZ0A"
      },
      "source": [
        "## keep browser running"
      ]
    },
    {
      "cell_type": "code",
      "execution_count": null,
      "metadata": {
        "colab": {
          "base_uri": "https://localhost:8080/"
        },
        "id": "xNhNoj2DXNFu",
        "outputId": "a3447dba-0669-43f5-da65-87a8195fdfc3",
        "vscode": {
          "languageId": "python"
        }
      },
      "outputs": [
        {
          "ename": "NameError",
          "evalue": "ignored",
          "output_type": "error",
          "traceback": [
            "\u001b[0;31m---------------------------------------------------------------------------\u001b[0m",
            "\u001b[0;31mNameError\u001b[0m                                 Traceback (most recent call last)",
            "\u001b[0;32m<ipython-input-26-8849c92c0740>\u001b[0m in \u001b[0;36m<module>\u001b[0;34m()\u001b[0m\n\u001b[0;32m----> 1\u001b[0;31m \u001b[0mtz\u001b[0m \u001b[0;34m=\u001b[0m \u001b[0mpytz\u001b[0m\u001b[0;34m.\u001b[0m\u001b[0mtimezone\u001b[0m\u001b[0;34m(\u001b[0m\u001b[0;34m'Asia/Ho_Chi_Minh'\u001b[0m\u001b[0;34m)\u001b[0m\u001b[0;34m\u001b[0m\u001b[0;34m\u001b[0m\u001b[0m\n\u001b[0m\u001b[1;32m      2\u001b[0m \u001b[0mprint\u001b[0m\u001b[0;34m(\u001b[0m\u001b[0mdatetime\u001b[0m\u001b[0;34m.\u001b[0m\u001b[0mnow\u001b[0m\u001b[0;34m(\u001b[0m\u001b[0mtz\u001b[0m\u001b[0;34m)\u001b[0m\u001b[0;34m)\u001b[0m\u001b[0;34m\u001b[0m\u001b[0;34m\u001b[0m\u001b[0m\n",
            "\u001b[0;31mNameError\u001b[0m: name 'pytz' is not defined"
          ]
        }
      ],
      "source": [
        "tz = pytz.timezone('Asia/Ho_Chi_Minh')\n",
        "print(datetime.now(tz))"
      ]
    },
    {
      "cell_type": "code",
      "execution_count": null,
      "metadata": {
        "id": "d3APgInkXN_u",
        "vscode": {
          "languageId": "python"
        }
      },
      "outputs": [],
      "source": [
        "# selector=\"#cell-xNhNoj2DXNFu > div.main-content > div.codecell-input-output > div.inputarea.horizontal.layout.code > div.cell-gutter > div > colab-run-button\"\n",
        "# function ClickConnect(btn_selector){\n",
        "#     return function(){\n",
        "#         document.querySelector(btn_selector).click() \n",
        "#     }\n",
        "# }\n",
        "\n",
        "# setInterval(ClickConnect(selector),120000)\n"
      ]
    },
    {
      "cell_type": "markdown",
      "metadata": {
        "id": "mid-nVLoXvj1"
      },
      "source": [
        "## Expose url for vscode"
      ]
    },
    {
      "cell_type": "code",
      "execution_count": null,
      "metadata": {
        "colab": {
          "base_uri": "https://localhost:8080/",
          "height": 346
        },
        "id": "OJt597CAXQ3P",
        "outputId": "1093e968-6985-4b76-f969-bc3debf35fa7",
        "vscode": {
          "languageId": "python"
        }
      },
      "outputs": [],
      "source": [
        "# VSCODE\n",
        "# Script connect GPU runtime to local vscode \n",
        "# Install colab_ssh on google colab\n",
        "!pip install colab_ssh --upgrade\n",
        " \n",
        "from colab_ssh import launch_ssh_cloudflared, init_git_cloudflared\n",
        "launch_ssh_cloudflared(password=\"a\")"
      ]
    },
    {
      "cell_type": "markdown",
      "metadata": {
        "id": "c8MF1djAipWv"
      },
      "source": [
        "## Setup repo"
      ]
    },
    {
      "cell_type": "code",
      "execution_count": null,
      "metadata": {
        "id": "upmyNd1zYy3R",
        "vscode": {
          "languageId": "python"
        }
      },
      "outputs": [],
      "source": [
        "# !git clone https://github.com/thucth-qt/AdaFace.git\n",
        "!/root/miniconda3/bin/conda create --name adaface pytorch==1.8.0 torchvision==0.9.0 cudatoolkit=10.2 -c pytorch\n",
        "!/root/miniconda3/bin/conda activate adaface\n",
        "!/root/miniconda3/bin/conda install  scikit-image matplotlib pandas scikit-learn \n",
        "!pip uninstall torchmetrics\n",
        "\n",
        "%cd /content/AdaFace\n",
        "!pip install -r requirements.txt\n",
        "!python -m ipykernel install --user --name adaface --display-name \"adaface\"\n"
      ]
    },
    {
      "cell_type": "markdown",
      "metadata": {
        "id": "GDlAKJycirnb"
      },
      "source": [
        "## Setup dataset"
      ]
    },
    {
      "cell_type": "code",
      "execution_count": null,
      "metadata": {
        "id": "RNCNC2nGjl6q",
        "vscode": {
          "languageId": "python"
        }
      },
      "outputs": [],
      "source": [
        "!gdown --id 1SXS4-Am3bsKSK615qbYdbA_FMVh3sAvR -O /content/AdaFace/dataset/MS1M-ArcFace.zip\n",
        "!unzip /content/AdaFace/dataset/MS1M-ArcFace.zip -d /content/AdaFace/dataset/MS1M-ArcFace"
      ]
    },
    {
      "cell_type": "code",
      "execution_count": null,
      "metadata": {
        "id": "XQl3rdPfk4Vr",
        "vscode": {
          "languageId": "python"
        }
      },
      "outputs": [],
      "source": [
        "# !mkdir /content/AdaFace/dataset\n",
        "# # this command is upload from local data to this runtime\n",
        "# # rsync -r dataset/ practitioner-avatar-barrel-none.trycloudflare.com:/content/AdaFace/dataset --progress==info32\n",
        "# !unzip /content/AdaFace/dataset/cfp-dataset.zip -d  /content/AdaFace/dataset/\n",
        "# !unzip /content/AdaFace/dataset/data-celeb.zip -d  /content/AdaFace/dataset/data-celeb1"
      ]
    },
    {
      "cell_type": "code",
      "execution_count": null,
      "metadata": {
        "id": "Ozdq1vD8ml5b",
        "vscode": {
          "languageId": "python"
        }
      },
      "outputs": [],
      "source": [
        "%cd /content/AdaFace/\n",
        "!python convert.py --rec_path /content/AdaFace/dataset/MS1M-ArcFace/faces_emore"
      ]
    },
    {
      "cell_type": "markdown",
      "metadata": {},
      "source": [
        "## Investigate train_subset"
      ]
    },
    {
      "cell_type": "code",
      "execution_count": 7,
      "metadata": {
        "vscode": {
          "languageId": "python"
        }
      },
      "outputs": [
        {
          "name": "stdout",
          "output_type": "stream",
          "text": [
            "/home/thucth/thucth/project/AdaFace\n"
          ]
        }
      ],
      "source": [
        "%cd /home/thucth/thucth/project/AdaFace\n",
        "with open(\"ms1mv2_train_subset_index.txt\", \"r\") as f:\n",
        "    train_ls = f.read()\n",
        "    train_ls = train_ls.split(\",\")"
      ]
    },
    {
      "cell_type": "code",
      "execution_count": 10,
      "metadata": {
        "vscode": {
          "languageId": "python"
        }
      },
      "outputs": [
        {
          "data": {
            "text/plain": [
              "970442"
            ]
          },
          "execution_count": 10,
          "metadata": {},
          "output_type": "execute_result"
        }
      ],
      "source": [
        "len(train_ls)"
      ]
    }
  ],
  "metadata": {
    "accelerator": "GPU",
    "colab": {
      "collapsed_sections": [],
      "name": "AdaFace.ipynb",
      "provenance": []
    },
    "kernelspec": {
      "display_name": "Python 3",
      "language": "python",
      "name": "python3"
    }
  },
  "nbformat": 4,
  "nbformat_minor": 0
}
