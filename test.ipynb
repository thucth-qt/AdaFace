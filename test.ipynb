{
 "cells": [
  {
   "cell_type": "code",
   "execution_count": 1,
   "metadata": {},
   "outputs": [
    {
     "name": "stdout",
     "output_type": "stream",
     "text": [
      "\n",
      "\\AdaFace with the following property\n",
      "self.m 0.4\n",
      "self.h 0.333\n",
      "self.s 64.0\n",
      "self.t_alpha 0.01\n"
     ]
    }
   ],
   "source": [
    "import torch\n",
    "from head import AdaFace\n",
    "\n",
    "# typical inputs with 512 dimension\n",
    "B = 5\n",
    "embbedings = torch.randn((B, 512)).float()  # latent code\n",
    "norms = torch.norm(embbedings, 2, -1, keepdim=True)\n",
    "normalized_embedding  = embbedings / norms\n",
    "labels =  torch.randint(70722, (B,))\n",
    "\n",
    "# instantiate AdaFace\n",
    "adaface = AdaFace(embedding_size=512,\n",
    "                  classnum=70722,\n",
    "                  m=0.4,\n",
    "                  h=0.333,\n",
    "                  s=64.,\n",
    "                  t_alpha=0.01,)\n",
    "\n",
    "# calculate loss\n",
    "cosine_with_margin = adaface(normalized_embedding, norms, labels)\n",
    "loss = torch.nn.CrossEntropyLoss()(cosine_with_margin, labels)"
   ]
  },
  {
   "cell_type": "code",
   "execution_count": null,
   "metadata": {},
   "outputs": [],
   "source": [
    "!python main.py \\\n",
    "    --data_root dataset/MS1M-ArcFace \\\n",
    "    --train_data_path faces_emore/imgs \\\n",
    "    --val_data_path faces_emore \\\n",
    "    --train_data_subset \\\n",
    "    --prefix run_ir18_ms1mv2_subset \\\n",
    "    --gpus 1 \\\n",
    "    --use_16bit \\\n",
    "    --batch_size 32 \\\n",
    "    --num_workers 16 \\\n",
    "    --epochs 26 \\\n",
    "    --lr_milestones 12,20,24 \\\n",
    "    --head adaface \\\n",
    "    --m 0.4 \\\n",
    "    --h 0.333 \\\n",
    "    --low_res_augmentation_prob 0.2 \\\n",
    "    --crop_augmentation_prob 0.2 \\\n",
    "    --photometric_augmentation_prob 0.2"
   ]
  }
 ],
 "metadata": {
  "kernelspec": {
   "display_name": "adaface",
   "language": "python",
   "name": "adaface"
  },
  "language_info": {
   "codemirror_mode": {
    "name": "ipython",
    "version": 3
   },
   "file_extension": ".py",
   "mimetype": "text/x-python",
   "name": "python",
   "nbconvert_exporter": "python",
   "pygments_lexer": "ipython3",
   "version": "3.7.13"
  },
  "orig_nbformat": 4
 },
 "nbformat": 4,
 "nbformat_minor": 2
}
